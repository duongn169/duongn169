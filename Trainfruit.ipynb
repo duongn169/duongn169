{
  "cells": [
    {
      "cell_type": "markdown",
      "metadata": {
        "id": "view-in-github",
        "colab_type": "text"
      },
      "source": [
        "<a href=\"https://colab.research.google.com/github/duongn169/duongn169/blob/main/Trainfruit.ipynb\" target=\"_parent\"><img src=\"https://colab.research.google.com/assets/colab-badge.svg\" alt=\"Open In Colab\"/></a>"
      ]
    },
    {
      "cell_type": "code",
      "execution_count": 2,
      "metadata": {
        "colab": {
          "base_uri": "https://localhost:8080/"
        },
        "id": "2I1aTIlQwCHb",
        "outputId": "f1155be3-6e15-4cb3-bc80-9b180f4e04f9"
      },
      "outputs": [
        {
          "output_type": "stream",
          "name": "stdout",
          "text": [
            "Mounted at /content/drive\n"
          ]
        }
      ],
      "source": [
        "from google.colab import drive\n",
        "drive.mount('/content/drive')"
      ]
    },
    {
      "cell_type": "code",
      "execution_count": 3,
      "metadata": {
        "id": "pzvOPF91e-m9"
      },
      "outputs": [],
      "source": [
        "import numpy as np\n",
        "import tensorflow as tf\n",
        "from tensorflow import keras\n",
        "from tensorflow.keras.models import Sequential\n",
        "from tensorflow.keras.layers import Activation, Dense, Flatten, BatchNormalization, Conv2D, MaxPool2D, Dropout\n",
        "from tensorflow.keras.optimizers import Adam\n",
        "from tensorflow.keras.metrics import categorical_crossentropy\n",
        "from tensorflow.keras.preprocessing.image import ImageDataGenerator\n",
        "from sklearn.metrics import confusion_matrix\n",
        "import itertools\n",
        "import os\n",
        "import shutil\n",
        "import random\n",
        "import glob\n",
        "import matplotlib.pyplot as plt\n",
        "import warnings\n",
        "from tensorflow.python.keras.utils.data_utils import Sequence\n",
        "warnings.simplefilter(action='ignore', category=FutureWarning)\n",
        "%matplotlib inline"
      ]
    },
    {
      "cell_type": "code",
      "execution_count": 4,
      "metadata": {
        "id": "Bb5n-bPKjdjI"
      },
      "outputs": [],
      "source": [
        "train_path = '/content/drive/MyDrive/TraiCayVN'\n",
        "valid_path = '/content/drive/MyDrive/TraiCayVN'\n",
        "test_path = '/content/drive/MyDrive/TraiCayVN'"
      ]
    },
    {
      "cell_type": "code",
      "execution_count": 5,
      "metadata": {
        "colab": {
          "base_uri": "https://localhost:8080/"
        },
        "id": "vJiGr70OjjSx",
        "outputId": "f48a2408-60ad-4edb-e4e2-75b33b38837d"
      },
      "outputs": [
        {
          "output_type": "stream",
          "name": "stdout",
          "text": [
            "Found 200 images belonging to 10 classes.\n",
            "Found 200 images belonging to 10 classes.\n",
            "Found 200 images belonging to 10 classes.\n"
          ]
        }
      ],
      "source": [
        "train_datagen = ImageDataGenerator(rescale=1./255, rotation_range=40,\n",
        "                                   width_shift_range=0.2, height_shift_range=0.2,\n",
        "                                   shear_range=0.2, zoom_range=0.2,\n",
        "                                   horizontal_flip=True, fill_mode='nearest')\n",
        "test_datagen = ImageDataGenerator(rescale=1./255)\n",
        "train_batches = train_datagen.flow_from_directory(train_path, target_size=(224, 224), \n",
        "                                                  batch_size=10, class_mode='categorical')\n",
        "\n",
        "validation_batches = test_datagen.flow_from_directory(valid_path, target_size=(224, 224),\n",
        "                                                      batch_size=10, class_mode='categorical')\n",
        "\n",
        "test_batches = test_datagen.flow_from_directory(test_path, target_size=(224, 224),\n",
        "                                                batch_size=10, class_mode='categorical')"
      ]
    },
    {
      "cell_type": "code",
      "execution_count": 6,
      "metadata": {
        "id": "Y5U4eCTKwga7"
      },
      "outputs": [],
      "source": [
        "imgs, labels = next(train_batches)\n",
        "def plotImages(images_arr):\n",
        "    fig, axes = plt.subplots(1, 10, figsize=(20,20))\n",
        "    axes = axes.flatten()\n",
        "    for img, ax in zip( images_arr, axes):\n",
        "        ax.imshow(img)\n",
        "        ax.axis('off')\n",
        "    plt.tight_layout()\n",
        "    plt.show()"
      ]
    },
    {
      "cell_type": "code",
      "execution_count": 7,
      "metadata": {
        "colab": {
          "base_uri": "https://localhost:8080/"
        },
        "id": "WCCsU5hGwoKM",
        "outputId": "a2be50b1-82e0-4719-be23-0daa32fde40b"
      },
      "outputs": [
        {
          "output_type": "stream",
          "name": "stdout",
          "text": [
            "Model: \"sequential\"\n",
            "_________________________________________________________________\n",
            " Layer (type)                Output Shape              Param #   \n",
            "=================================================================\n",
            " conv2d (Conv2D)             (None, 224, 224, 64)      1792      \n",
            "                                                                 \n",
            " max_pooling2d (MaxPooling2D  (None, 112, 112, 64)     0         \n",
            " )                                                               \n",
            "                                                                 \n",
            " conv2d_1 (Conv2D)           (None, 112, 112, 128)     73856     \n",
            "                                                                 \n",
            " max_pooling2d_1 (MaxPooling  (None, 56, 56, 128)      0         \n",
            " 2D)                                                             \n",
            "                                                                 \n",
            " conv2d_2 (Conv2D)           (None, 56, 56, 256)       295168    \n",
            "                                                                 \n",
            " max_pooling2d_2 (MaxPooling  (None, 28, 28, 256)      0         \n",
            " 2D)                                                             \n",
            "                                                                 \n",
            " dropout (Dropout)           (None, 28, 28, 256)       0         \n",
            "                                                                 \n",
            " conv2d_3 (Conv2D)           (None, 28, 28, 256)       590080    \n",
            "                                                                 \n",
            " flatten (Flatten)           (None, 200704)            0         \n",
            "                                                                 \n",
            " dropout_1 (Dropout)         (None, 200704)            0         \n",
            "                                                                 \n",
            " dense (Dense)               (None, 10)                2007050   \n",
            "                                                                 \n",
            "=================================================================\n",
            "Total params: 2,967,946\n",
            "Trainable params: 2,967,946\n",
            "Non-trainable params: 0\n",
            "_________________________________________________________________\n"
          ]
        }
      ],
      "source": [
        "model = Sequential([\n",
        "    Conv2D(filters=64, kernel_size=(3, 3), activation='relu', padding = 'same', input_shape=(224,224,3)),\n",
        "    MaxPool2D(pool_size=(2, 2), strides=2),\n",
        "    Conv2D(filters=128, kernel_size=(3, 3), activation='relu', padding = 'same'),\n",
        "    MaxPool2D(pool_size=(2, 2), strides=2),\n",
        "    Conv2D(filters=256, kernel_size=(3, 3), activation='relu', padding = 'same'),\n",
        "    MaxPool2D(pool_size=(2, 2), strides=2),\n",
        "    Dropout(0.2),\n",
        "    Conv2D(filters=256, kernel_size=(3, 3), activation='relu', padding = 'same'),\n",
        "    Flatten(),\n",
        "    Dropout(0.5),\n",
        "    Dense(units=10, activation='softmax')\n",
        "])\n",
        "model.summary()"
      ]
    },
    {
      "cell_type": "code",
      "execution_count": 8,
      "metadata": {
        "colab": {
          "base_uri": "https://localhost:8080/"
        },
        "id": "Ip756OHCwu4U",
        "outputId": "c0a856e6-7543-4108-abee-e382f8b17ead"
      },
      "outputs": [
        {
          "output_type": "stream",
          "name": "stdout",
          "text": [
            "Epoch 1/150\n",
            "20/20 [==============================] - 75s 3s/step - loss: 2.3569 - accuracy: 0.0800 - val_loss: 2.3015 - val_accuracy: 0.1300\n",
            "Epoch 2/150\n",
            "20/20 [==============================] - 10s 522ms/step - loss: 2.3047 - accuracy: 0.1100 - val_loss: 2.2970 - val_accuracy: 0.1250\n",
            "Epoch 3/150\n",
            "20/20 [==============================] - 10s 526ms/step - loss: 2.2860 - accuracy: 0.1050 - val_loss: 2.1796 - val_accuracy: 0.1200\n",
            "Epoch 4/150\n",
            "20/20 [==============================] - 10s 516ms/step - loss: 2.1956 - accuracy: 0.1600 - val_loss: 2.0723 - val_accuracy: 0.2450\n",
            "Epoch 5/150\n",
            "20/20 [==============================] - 10s 517ms/step - loss: 2.1555 - accuracy: 0.2350 - val_loss: 1.9110 - val_accuracy: 0.2650\n",
            "Epoch 6/150\n",
            "20/20 [==============================] - 10s 520ms/step - loss: 1.9508 - accuracy: 0.2450 - val_loss: 1.8022 - val_accuracy: 0.3400\n",
            "Epoch 7/150\n",
            "20/20 [==============================] - 10s 519ms/step - loss: 1.8033 - accuracy: 0.3150 - val_loss: 1.5493 - val_accuracy: 0.4850\n",
            "Epoch 8/150\n",
            "20/20 [==============================] - 10s 504ms/step - loss: 1.6659 - accuracy: 0.4050 - val_loss: 1.4694 - val_accuracy: 0.4400\n",
            "Epoch 9/150\n",
            "20/20 [==============================] - 10s 515ms/step - loss: 1.5769 - accuracy: 0.4350 - val_loss: 1.1951 - val_accuracy: 0.6100\n",
            "Epoch 10/150\n",
            "20/20 [==============================] - 10s 520ms/step - loss: 1.4571 - accuracy: 0.5050 - val_loss: 1.0903 - val_accuracy: 0.6750\n",
            "Epoch 11/150\n",
            "20/20 [==============================] - 10s 534ms/step - loss: 1.3831 - accuracy: 0.4950 - val_loss: 1.1939 - val_accuracy: 0.5700\n",
            "Epoch 12/150\n",
            "20/20 [==============================] - 10s 515ms/step - loss: 1.4682 - accuracy: 0.4400 - val_loss: 1.0962 - val_accuracy: 0.5800\n",
            "Epoch 13/150\n",
            "20/20 [==============================] - 10s 513ms/step - loss: 1.2364 - accuracy: 0.6300 - val_loss: 0.8973 - val_accuracy: 0.6650\n",
            "Epoch 14/150\n",
            "20/20 [==============================] - 10s 520ms/step - loss: 1.3235 - accuracy: 0.5150 - val_loss: 0.8865 - val_accuracy: 0.6950\n",
            "Epoch 15/150\n",
            "20/20 [==============================] - 10s 515ms/step - loss: 1.2356 - accuracy: 0.5800 - val_loss: 0.8899 - val_accuracy: 0.7200\n",
            "Epoch 16/150\n",
            "20/20 [==============================] - 10s 496ms/step - loss: 1.1347 - accuracy: 0.6500 - val_loss: 0.9381 - val_accuracy: 0.6650\n",
            "Epoch 17/150\n",
            "20/20 [==============================] - 10s 506ms/step - loss: 1.1055 - accuracy: 0.6100 - val_loss: 0.6873 - val_accuracy: 0.7650\n",
            "Epoch 18/150\n",
            "20/20 [==============================] - 10s 498ms/step - loss: 0.9597 - accuracy: 0.6400 - val_loss: 0.7543 - val_accuracy: 0.7300\n",
            "Epoch 19/150\n",
            "20/20 [==============================] - 10s 490ms/step - loss: 0.9779 - accuracy: 0.6050 - val_loss: 0.6970 - val_accuracy: 0.7350\n",
            "Epoch 20/150\n",
            "20/20 [==============================] - 10s 494ms/step - loss: 1.1112 - accuracy: 0.6300 - val_loss: 0.9391 - val_accuracy: 0.6500\n",
            "Epoch 21/150\n",
            "20/20 [==============================] - 10s 468ms/step - loss: 1.0984 - accuracy: 0.5950 - val_loss: 0.7851 - val_accuracy: 0.7200\n",
            "Epoch 22/150\n",
            "20/20 [==============================] - 10s 506ms/step - loss: 0.9476 - accuracy: 0.6350 - val_loss: 0.7415 - val_accuracy: 0.7300\n",
            "Epoch 23/150\n",
            "20/20 [==============================] - 10s 501ms/step - loss: 0.9674 - accuracy: 0.6850 - val_loss: 0.6317 - val_accuracy: 0.8050\n",
            "Epoch 24/150\n",
            "20/20 [==============================] - 10s 512ms/step - loss: 0.8086 - accuracy: 0.7150 - val_loss: 0.5321 - val_accuracy: 0.8200\n",
            "Epoch 25/150\n",
            "20/20 [==============================] - 10s 509ms/step - loss: 0.7133 - accuracy: 0.7350 - val_loss: 0.4746 - val_accuracy: 0.8200\n",
            "Epoch 26/150\n",
            "20/20 [==============================] - 10s 506ms/step - loss: 0.7603 - accuracy: 0.7450 - val_loss: 0.5575 - val_accuracy: 0.7800\n",
            "Epoch 27/150\n",
            "20/20 [==============================] - 10s 514ms/step - loss: 0.8523 - accuracy: 0.7100 - val_loss: 0.5164 - val_accuracy: 0.7850\n",
            "Epoch 28/150\n",
            "20/20 [==============================] - 10s 527ms/step - loss: 0.7480 - accuracy: 0.7250 - val_loss: 0.4622 - val_accuracy: 0.8450\n",
            "Epoch 29/150\n",
            "20/20 [==============================] - 11s 572ms/step - loss: 0.7956 - accuracy: 0.7150 - val_loss: 0.6982 - val_accuracy: 0.7750\n",
            "Epoch 30/150\n",
            "20/20 [==============================] - 11s 537ms/step - loss: 0.7897 - accuracy: 0.7450 - val_loss: 0.4301 - val_accuracy: 0.8550\n",
            "Epoch 31/150\n",
            "20/20 [==============================] - 11s 535ms/step - loss: 0.7281 - accuracy: 0.7300 - val_loss: 0.4108 - val_accuracy: 0.8700\n",
            "Epoch 32/150\n",
            "20/20 [==============================] - 11s 540ms/step - loss: 0.6994 - accuracy: 0.7550 - val_loss: 0.3932 - val_accuracy: 0.8550\n",
            "Epoch 33/150\n",
            "20/20 [==============================] - 11s 535ms/step - loss: 0.6493 - accuracy: 0.8050 - val_loss: 0.4008 - val_accuracy: 0.8650\n",
            "Epoch 34/150\n",
            "20/20 [==============================] - 11s 568ms/step - loss: 0.6100 - accuracy: 0.7850 - val_loss: 0.2833 - val_accuracy: 0.9050\n",
            "Epoch 35/150\n",
            "20/20 [==============================] - 11s 540ms/step - loss: 0.5834 - accuracy: 0.7700 - val_loss: 0.3379 - val_accuracy: 0.8900\n",
            "Epoch 36/150\n",
            "20/20 [==============================] - 11s 541ms/step - loss: 0.7309 - accuracy: 0.7550 - val_loss: 0.4616 - val_accuracy: 0.8600\n",
            "Epoch 37/150\n",
            "20/20 [==============================] - 11s 523ms/step - loss: 0.7727 - accuracy: 0.7300 - val_loss: 0.3456 - val_accuracy: 0.8900\n",
            "Epoch 38/150\n",
            "20/20 [==============================] - 11s 530ms/step - loss: 0.5912 - accuracy: 0.8000 - val_loss: 0.2934 - val_accuracy: 0.9100\n",
            "Epoch 39/150\n",
            "20/20 [==============================] - 10s 527ms/step - loss: 0.5240 - accuracy: 0.8350 - val_loss: 0.2361 - val_accuracy: 0.9150\n",
            "Epoch 40/150\n",
            "20/20 [==============================] - 10s 531ms/step - loss: 0.5302 - accuracy: 0.7950 - val_loss: 0.2880 - val_accuracy: 0.9000\n",
            "Epoch 41/150\n",
            "20/20 [==============================] - 10s 535ms/step - loss: 0.4855 - accuracy: 0.8300 - val_loss: 0.3647 - val_accuracy: 0.8950\n",
            "Epoch 42/150\n",
            "20/20 [==============================] - 11s 535ms/step - loss: 0.7559 - accuracy: 0.7500 - val_loss: 0.4281 - val_accuracy: 0.8550\n",
            "Epoch 43/150\n",
            "20/20 [==============================] - 10s 534ms/step - loss: 0.5731 - accuracy: 0.7900 - val_loss: 0.2528 - val_accuracy: 0.9000\n",
            "Epoch 44/150\n",
            "20/20 [==============================] - 10s 529ms/step - loss: 0.5453 - accuracy: 0.8200 - val_loss: 0.4113 - val_accuracy: 0.8550\n",
            "Epoch 45/150\n",
            "20/20 [==============================] - 11s 537ms/step - loss: 0.6517 - accuracy: 0.7550 - val_loss: 0.4531 - val_accuracy: 0.8350\n",
            "Epoch 46/150\n",
            "20/20 [==============================] - 11s 530ms/step - loss: 0.5920 - accuracy: 0.7600 - val_loss: 0.2785 - val_accuracy: 0.9200\n",
            "Epoch 47/150\n",
            "20/20 [==============================] - 10s 525ms/step - loss: 0.4499 - accuracy: 0.8700 - val_loss: 0.2184 - val_accuracy: 0.9450\n",
            "Epoch 48/150\n",
            "20/20 [==============================] - 10s 528ms/step - loss: 0.4760 - accuracy: 0.8550 - val_loss: 0.1740 - val_accuracy: 0.9250\n",
            "Epoch 49/150\n",
            "20/20 [==============================] - 10s 500ms/step - loss: 0.4332 - accuracy: 0.8450 - val_loss: 0.2254 - val_accuracy: 0.9200\n",
            "Epoch 50/150\n",
            "20/20 [==============================] - 10s 528ms/step - loss: 0.5314 - accuracy: 0.8050 - val_loss: 0.2478 - val_accuracy: 0.8800\n",
            "Epoch 51/150\n",
            "20/20 [==============================] - 10s 510ms/step - loss: 0.4219 - accuracy: 0.8400 - val_loss: 0.2753 - val_accuracy: 0.9100\n",
            "Epoch 52/150\n",
            "20/20 [==============================] - 10s 512ms/step - loss: 0.5279 - accuracy: 0.7950 - val_loss: 0.1794 - val_accuracy: 0.9600\n",
            "Epoch 53/150\n",
            "20/20 [==============================] - 10s 528ms/step - loss: 0.3610 - accuracy: 0.9100 - val_loss: 0.1611 - val_accuracy: 0.9500\n",
            "Epoch 54/150\n",
            "20/20 [==============================] - 10s 529ms/step - loss: 0.3291 - accuracy: 0.8850 - val_loss: 0.2054 - val_accuracy: 0.9150\n",
            "Epoch 55/150\n",
            "20/20 [==============================] - 10s 532ms/step - loss: 0.3225 - accuracy: 0.8750 - val_loss: 0.1100 - val_accuracy: 0.9700\n",
            "Epoch 56/150\n",
            "20/20 [==============================] - 11s 533ms/step - loss: 0.2641 - accuracy: 0.9050 - val_loss: 0.1655 - val_accuracy: 0.9500\n",
            "Epoch 57/150\n",
            "20/20 [==============================] - 11s 523ms/step - loss: 0.4534 - accuracy: 0.8500 - val_loss: 0.2701 - val_accuracy: 0.9150\n",
            "Epoch 58/150\n",
            "20/20 [==============================] - 11s 541ms/step - loss: 0.4546 - accuracy: 0.8400 - val_loss: 0.2757 - val_accuracy: 0.9200\n",
            "Epoch 59/150\n",
            "20/20 [==============================] - 11s 525ms/step - loss: 0.5178 - accuracy: 0.8250 - val_loss: 0.1840 - val_accuracy: 0.9400\n",
            "Epoch 60/150\n",
            "20/20 [==============================] - 11s 539ms/step - loss: 0.3042 - accuracy: 0.9050 - val_loss: 0.0992 - val_accuracy: 0.9750\n",
            "Epoch 61/150\n",
            "20/20 [==============================] - 11s 537ms/step - loss: 0.3690 - accuracy: 0.8700 - val_loss: 0.1800 - val_accuracy: 0.9300\n",
            "Epoch 62/150\n",
            "20/20 [==============================] - 11s 546ms/step - loss: 0.2808 - accuracy: 0.9050 - val_loss: 0.0801 - val_accuracy: 0.9800\n",
            "Epoch 63/150\n",
            "20/20 [==============================] - 11s 540ms/step - loss: 0.3264 - accuracy: 0.8750 - val_loss: 0.1697 - val_accuracy: 0.9550\n",
            "Epoch 64/150\n",
            "20/20 [==============================] - 11s 531ms/step - loss: 0.2483 - accuracy: 0.9100 - val_loss: 0.0782 - val_accuracy: 0.9800\n",
            "Epoch 65/150\n",
            "20/20 [==============================] - 10s 528ms/step - loss: 0.3214 - accuracy: 0.9050 - val_loss: 0.0631 - val_accuracy: 0.9950\n",
            "Epoch 66/150\n",
            "20/20 [==============================] - 11s 537ms/step - loss: 0.4570 - accuracy: 0.8850 - val_loss: 0.2483 - val_accuracy: 0.9200\n",
            "Epoch 67/150\n",
            "20/20 [==============================] - 11s 539ms/step - loss: 0.3938 - accuracy: 0.8800 - val_loss: 0.1234 - val_accuracy: 0.9600\n",
            "Epoch 68/150\n",
            "20/20 [==============================] - 11s 541ms/step - loss: 0.3033 - accuracy: 0.9000 - val_loss: 0.1321 - val_accuracy: 0.9500\n",
            "Epoch 69/150\n",
            "20/20 [==============================] - 11s 537ms/step - loss: 0.3550 - accuracy: 0.8900 - val_loss: 0.1677 - val_accuracy: 0.9350\n",
            "Epoch 70/150\n",
            "20/20 [==============================] - 11s 535ms/step - loss: 0.2783 - accuracy: 0.8950 - val_loss: 0.3166 - val_accuracy: 0.9200\n",
            "Epoch 71/150\n",
            "20/20 [==============================] - 11s 536ms/step - loss: 0.4244 - accuracy: 0.8500 - val_loss: 0.2562 - val_accuracy: 0.9150\n",
            "Epoch 72/150\n",
            "20/20 [==============================] - 11s 535ms/step - loss: 0.3966 - accuracy: 0.8600 - val_loss: 0.0938 - val_accuracy: 0.9800\n",
            "Epoch 73/150\n",
            "20/20 [==============================] - 11s 536ms/step - loss: 0.2038 - accuracy: 0.9350 - val_loss: 0.0445 - val_accuracy: 0.9900\n",
            "Epoch 74/150\n",
            "20/20 [==============================] - 10s 534ms/step - loss: 0.1386 - accuracy: 0.9600 - val_loss: 0.0559 - val_accuracy: 0.9850\n",
            "Epoch 75/150\n",
            "20/20 [==============================] - 11s 531ms/step - loss: 0.1180 - accuracy: 0.9450 - val_loss: 0.0559 - val_accuracy: 0.9750\n",
            "Epoch 76/150\n",
            "20/20 [==============================] - 11s 532ms/step - loss: 0.1439 - accuracy: 0.9500 - val_loss: 0.0633 - val_accuracy: 0.9800\n",
            "Epoch 77/150\n",
            "20/20 [==============================] - 11s 538ms/step - loss: 0.2047 - accuracy: 0.9350 - val_loss: 0.0655 - val_accuracy: 0.9700\n",
            "Epoch 78/150\n",
            "20/20 [==============================] - 11s 536ms/step - loss: 0.1727 - accuracy: 0.9450 - val_loss: 0.1242 - val_accuracy: 0.9600\n",
            "Epoch 79/150\n",
            "20/20 [==============================] - 11s 519ms/step - loss: 0.2251 - accuracy: 0.9100 - val_loss: 0.0689 - val_accuracy: 0.9700\n",
            "Epoch 80/150\n",
            "20/20 [==============================] - 11s 542ms/step - loss: 0.3287 - accuracy: 0.8800 - val_loss: 0.1453 - val_accuracy: 0.9450\n",
            "Epoch 81/150\n",
            "20/20 [==============================] - 11s 544ms/step - loss: 0.3526 - accuracy: 0.8850 - val_loss: 0.1904 - val_accuracy: 0.9350\n",
            "Epoch 82/150\n",
            "20/20 [==============================] - 11s 541ms/step - loss: 0.2601 - accuracy: 0.9050 - val_loss: 0.1086 - val_accuracy: 0.9600\n",
            "Epoch 83/150\n",
            "20/20 [==============================] - 10s 511ms/step - loss: 0.1681 - accuracy: 0.9550 - val_loss: 0.0286 - val_accuracy: 0.9900\n",
            "Epoch 84/150\n",
            "20/20 [==============================] - 10s 526ms/step - loss: 0.2297 - accuracy: 0.9000 - val_loss: 0.0550 - val_accuracy: 0.9800\n",
            "Epoch 85/150\n",
            "20/20 [==============================] - 10s 524ms/step - loss: 0.3020 - accuracy: 0.8900 - val_loss: 0.1088 - val_accuracy: 0.9550\n",
            "Epoch 86/150\n",
            "20/20 [==============================] - 10s 528ms/step - loss: 0.3009 - accuracy: 0.8950 - val_loss: 0.1053 - val_accuracy: 0.9600\n",
            "Epoch 87/150\n",
            "20/20 [==============================] - 10s 496ms/step - loss: 0.1575 - accuracy: 0.9450 - val_loss: 0.0818 - val_accuracy: 0.9650\n",
            "Epoch 88/150\n",
            "20/20 [==============================] - 10s 512ms/step - loss: 0.1909 - accuracy: 0.9350 - val_loss: 0.0447 - val_accuracy: 0.9900\n",
            "Epoch 89/150\n",
            "20/20 [==============================] - 10s 522ms/step - loss: 0.1810 - accuracy: 0.9400 - val_loss: 0.0433 - val_accuracy: 0.9900\n",
            "Epoch 90/150\n",
            "20/20 [==============================] - 10s 520ms/step - loss: 0.2597 - accuracy: 0.9300 - val_loss: 0.1374 - val_accuracy: 0.9600\n",
            "Epoch 91/150\n",
            "20/20 [==============================] - 10s 511ms/step - loss: 0.2181 - accuracy: 0.9250 - val_loss: 0.0511 - val_accuracy: 0.9900\n",
            "Epoch 92/150\n",
            "20/20 [==============================] - 10s 522ms/step - loss: 0.2304 - accuracy: 0.9350 - val_loss: 0.0508 - val_accuracy: 0.9850\n",
            "Epoch 93/150\n",
            "20/20 [==============================] - 11s 533ms/step - loss: 0.2592 - accuracy: 0.9150 - val_loss: 0.0968 - val_accuracy: 0.9650\n",
            "Epoch 94/150\n",
            "20/20 [==============================] - 11s 535ms/step - loss: 0.2001 - accuracy: 0.9200 - val_loss: 0.0410 - val_accuracy: 0.9850\n",
            "Epoch 95/150\n",
            "20/20 [==============================] - 11s 532ms/step - loss: 0.1696 - accuracy: 0.9400 - val_loss: 0.0196 - val_accuracy: 1.0000\n",
            "Epoch 96/150\n",
            "20/20 [==============================] - 11s 517ms/step - loss: 0.1649 - accuracy: 0.9350 - val_loss: 0.0415 - val_accuracy: 0.9800\n",
            "Epoch 97/150\n",
            "20/20 [==============================] - 11s 534ms/step - loss: 0.2203 - accuracy: 0.9250 - val_loss: 0.1311 - val_accuracy: 0.9550\n",
            "Epoch 98/150\n",
            "20/20 [==============================] - 11s 534ms/step - loss: 0.2901 - accuracy: 0.9300 - val_loss: 0.1033 - val_accuracy: 0.9600\n",
            "Epoch 99/150\n",
            "20/20 [==============================] - 11s 541ms/step - loss: 0.1485 - accuracy: 0.9500 - val_loss: 0.0289 - val_accuracy: 0.9950\n",
            "Epoch 100/150\n",
            "20/20 [==============================] - 11s 541ms/step - loss: 0.1077 - accuracy: 0.9600 - val_loss: 0.0804 - val_accuracy: 0.9600\n",
            "Epoch 101/150\n",
            "20/20 [==============================] - 11s 513ms/step - loss: 0.1369 - accuracy: 0.9600 - val_loss: 0.1175 - val_accuracy: 0.9600\n",
            "Epoch 102/150\n",
            "20/20 [==============================] - 11s 532ms/step - loss: 0.0879 - accuracy: 0.9750 - val_loss: 0.0458 - val_accuracy: 0.9800\n",
            "Epoch 103/150\n",
            "20/20 [==============================] - 11s 537ms/step - loss: 0.1095 - accuracy: 0.9700 - val_loss: 0.0138 - val_accuracy: 1.0000\n",
            "Epoch 104/150\n",
            "20/20 [==============================] - 12s 616ms/step - loss: 0.0947 - accuracy: 0.9700 - val_loss: 0.0245 - val_accuracy: 0.9950\n",
            "Epoch 105/150\n",
            "20/20 [==============================] - 11s 535ms/step - loss: 0.1028 - accuracy: 0.9700 - val_loss: 0.0492 - val_accuracy: 0.9800\n",
            "Epoch 106/150\n",
            "20/20 [==============================] - 11s 536ms/step - loss: 0.1063 - accuracy: 0.9700 - val_loss: 0.0273 - val_accuracy: 0.9950\n",
            "Epoch 107/150\n",
            "20/20 [==============================] - 11s 529ms/step - loss: 0.1086 - accuracy: 0.9450 - val_loss: 0.0225 - val_accuracy: 0.9850\n",
            "Epoch 108/150\n",
            "20/20 [==============================] - 11s 535ms/step - loss: 0.0938 - accuracy: 0.9650 - val_loss: 0.0461 - val_accuracy: 0.9800\n",
            "Epoch 109/150\n",
            "20/20 [==============================] - 11s 542ms/step - loss: 0.1466 - accuracy: 0.9600 - val_loss: 0.1540 - val_accuracy: 0.9600\n",
            "Epoch 110/150\n",
            "20/20 [==============================] - 11s 541ms/step - loss: 0.3135 - accuracy: 0.9200 - val_loss: 0.2201 - val_accuracy: 0.9350\n",
            "Epoch 111/150\n",
            "20/20 [==============================] - 11s 542ms/step - loss: 0.4947 - accuracy: 0.8550 - val_loss: 0.2994 - val_accuracy: 0.9250\n",
            "Epoch 112/150\n",
            "20/20 [==============================] - 11s 517ms/step - loss: 0.3780 - accuracy: 0.8900 - val_loss: 0.0953 - val_accuracy: 0.9700\n",
            "Epoch 113/150\n",
            "20/20 [==============================] - 11s 542ms/step - loss: 0.3039 - accuracy: 0.9250 - val_loss: 0.0639 - val_accuracy: 0.9800\n",
            "Epoch 114/150\n",
            "20/20 [==============================] - 11s 537ms/step - loss: 0.1445 - accuracy: 0.9550 - val_loss: 0.0530 - val_accuracy: 0.9850\n",
            "Epoch 115/150\n",
            "20/20 [==============================] - 11s 540ms/step - loss: 0.1146 - accuracy: 0.9500 - val_loss: 0.0303 - val_accuracy: 0.9900\n",
            "Epoch 116/150\n",
            "20/20 [==============================] - 11s 540ms/step - loss: 0.1503 - accuracy: 0.9500 - val_loss: 0.0780 - val_accuracy: 0.9750\n",
            "Epoch 117/150\n",
            "20/20 [==============================] - 11s 540ms/step - loss: 0.1460 - accuracy: 0.9600 - val_loss: 0.5274 - val_accuracy: 0.8800\n",
            "Epoch 118/150\n",
            "20/20 [==============================] - 11s 540ms/step - loss: 0.1558 - accuracy: 0.9300 - val_loss: 0.0890 - val_accuracy: 0.9600\n",
            "Epoch 119/150\n",
            "20/20 [==============================] - 11s 533ms/step - loss: 0.1971 - accuracy: 0.9450 - val_loss: 0.0516 - val_accuracy: 0.9800\n",
            "Epoch 120/150\n",
            "20/20 [==============================] - 11s 539ms/step - loss: 0.2149 - accuracy: 0.9250 - val_loss: 0.0373 - val_accuracy: 0.9900\n",
            "Epoch 121/150\n",
            "20/20 [==============================] - 11s 535ms/step - loss: 0.1188 - accuracy: 0.9550 - val_loss: 0.0501 - val_accuracy: 0.9850\n",
            "Epoch 122/150\n",
            "20/20 [==============================] - 11s 541ms/step - loss: 0.1558 - accuracy: 0.9400 - val_loss: 0.0382 - val_accuracy: 0.9850\n",
            "Epoch 123/150\n",
            "20/20 [==============================] - 11s 537ms/step - loss: 0.1429 - accuracy: 0.9700 - val_loss: 0.0409 - val_accuracy: 0.9900\n",
            "Epoch 124/150\n",
            "20/20 [==============================] - 11s 538ms/step - loss: 0.0591 - accuracy: 0.9750 - val_loss: 0.0285 - val_accuracy: 0.9950\n",
            "Epoch 125/150\n",
            "20/20 [==============================] - 11s 535ms/step - loss: 0.0655 - accuracy: 0.9800 - val_loss: 0.0882 - val_accuracy: 0.9800\n",
            "Epoch 126/150\n",
            "20/20 [==============================] - 10s 512ms/step - loss: 0.1628 - accuracy: 0.9550 - val_loss: 0.0766 - val_accuracy: 0.9800\n",
            "Epoch 127/150\n",
            "20/20 [==============================] - 10s 510ms/step - loss: 0.1464 - accuracy: 0.9550 - val_loss: 0.1589 - val_accuracy: 0.9500\n",
            "Epoch 128/150\n",
            "20/20 [==============================] - 10s 512ms/step - loss: 0.1274 - accuracy: 0.9650 - val_loss: 0.0267 - val_accuracy: 0.9900\n",
            "Epoch 129/150\n",
            "20/20 [==============================] - 10s 517ms/step - loss: 0.1034 - accuracy: 0.9650 - val_loss: 0.0676 - val_accuracy: 0.9850\n",
            "Epoch 130/150\n",
            "20/20 [==============================] - 10s 505ms/step - loss: 0.3340 - accuracy: 0.9100 - val_loss: 0.0509 - val_accuracy: 0.9900\n",
            "Epoch 131/150\n",
            "20/20 [==============================] - 10s 513ms/step - loss: 0.3839 - accuracy: 0.8800 - val_loss: 0.0621 - val_accuracy: 0.9700\n",
            "Epoch 132/150\n",
            "20/20 [==============================] - 10s 507ms/step - loss: 0.2350 - accuracy: 0.9000 - val_loss: 0.1627 - val_accuracy: 0.9450\n",
            "Epoch 133/150\n",
            "20/20 [==============================] - 10s 511ms/step - loss: 0.1789 - accuracy: 0.9350 - val_loss: 0.0209 - val_accuracy: 1.0000\n",
            "Epoch 134/150\n",
            "20/20 [==============================] - 10s 522ms/step - loss: 0.1023 - accuracy: 0.9750 - val_loss: 0.0600 - val_accuracy: 0.9850\n",
            "Epoch 135/150\n",
            "20/20 [==============================] - 10s 515ms/step - loss: 0.0972 - accuracy: 0.9550 - val_loss: 0.0197 - val_accuracy: 0.9900\n",
            "Epoch 136/150\n",
            "20/20 [==============================] - 11s 538ms/step - loss: 0.1145 - accuracy: 0.9750 - val_loss: 0.0471 - val_accuracy: 0.9900\n",
            "Epoch 137/150\n",
            "20/20 [==============================] - 11s 539ms/step - loss: 0.1106 - accuracy: 0.9700 - val_loss: 0.0704 - val_accuracy: 0.9700\n",
            "Epoch 138/150\n",
            "20/20 [==============================] - 11s 536ms/step - loss: 0.0860 - accuracy: 0.9650 - val_loss: 0.0138 - val_accuracy: 1.0000\n",
            "Epoch 139/150\n",
            "20/20 [==============================] - 11s 536ms/step - loss: 0.0813 - accuracy: 0.9750 - val_loss: 0.0105 - val_accuracy: 1.0000\n",
            "Epoch 140/150\n",
            "20/20 [==============================] - 11s 538ms/step - loss: 0.1012 - accuracy: 0.9850 - val_loss: 0.1046 - val_accuracy: 0.9800\n",
            "Epoch 141/150\n",
            "20/20 [==============================] - 11s 540ms/step - loss: 0.0864 - accuracy: 0.9750 - val_loss: 0.0391 - val_accuracy: 0.9850\n",
            "Epoch 142/150\n",
            "20/20 [==============================] - 11s 537ms/step - loss: 0.1592 - accuracy: 0.9500 - val_loss: 0.0782 - val_accuracy: 0.9850\n",
            "Epoch 143/150\n",
            "20/20 [==============================] - 11s 538ms/step - loss: 0.2425 - accuracy: 0.9200 - val_loss: 0.1407 - val_accuracy: 0.9800\n",
            "Epoch 144/150\n",
            "20/20 [==============================] - 11s 536ms/step - loss: 0.2438 - accuracy: 0.9350 - val_loss: 0.3248 - val_accuracy: 0.9250\n",
            "Epoch 145/150\n",
            "20/20 [==============================] - 11s 536ms/step - loss: 0.1547 - accuracy: 0.9450 - val_loss: 0.0469 - val_accuracy: 0.9850\n",
            "Epoch 146/150\n",
            "20/20 [==============================] - 11s 543ms/step - loss: 0.1604 - accuracy: 0.9350 - val_loss: 0.0371 - val_accuracy: 0.9850\n",
            "Epoch 147/150\n",
            "20/20 [==============================] - 11s 530ms/step - loss: 0.1671 - accuracy: 0.9450 - val_loss: 0.0568 - val_accuracy: 0.9800\n",
            "Epoch 148/150\n",
            "20/20 [==============================] - 11s 537ms/step - loss: 0.0967 - accuracy: 0.9750 - val_loss: 0.0127 - val_accuracy: 0.9950\n",
            "Epoch 149/150\n",
            "20/20 [==============================] - 11s 540ms/step - loss: 0.1351 - accuracy: 0.9650 - val_loss: 0.1723 - val_accuracy: 0.9550\n",
            "Epoch 150/150\n",
            "20/20 [==============================] - 11s 532ms/step - loss: 0.2450 - accuracy: 0.9100 - val_loss: 0.0591 - val_accuracy: 0.9800\n"
          ]
        },
        {
          "output_type": "execute_result",
          "data": {
            "text/plain": [
              "<keras.callbacks.History at 0x7f1786d99050>"
            ]
          },
          "metadata": {},
          "execution_count": 8
        }
      ],
      "source": [
        "model.compile(optimizer=Adam(learning_rate=0.0005), loss='categorical_crossentropy', metrics=['accuracy'])\n",
        "model.fit(x=train_batches, steps_per_epoch=len(train_batches), validation_data=validation_batches,\n",
        "          validation_steps=len(validation_batches), epochs=150, verbose=1)"
      ]
    },
    {
      "cell_type": "code",
      "execution_count": 10,
      "metadata": {
        "id": "8_QbUvvP1UpK"
      },
      "outputs": [],
      "source": [
        "model.save('Trainfruit.h5')"
      ]
    },
    {
      "cell_type": "code",
      "execution_count": 11,
      "metadata": {
        "colab": {
          "base_uri": "https://localhost:8080/"
        },
        "id": "8P6Cz1hP99IB",
        "outputId": "737531fe-a97b-4908-db8c-b842b3787caf"
      },
      "outputs": [
        {
          "output_type": "stream",
          "name": "stdout",
          "text": [
            "Image Processing.......Compleated\n"
          ]
        }
      ],
      "source": [
        "classes = ['Banana','Mangosteen','Pineapple','Rambutan','Watermelon','custard apple','durian','guava','longan','sapodilla fruit']\n",
        "print(\"Image Processing.......Compleated\")"
      ]
    },
    {
      "cell_type": "code",
      "execution_count": 15,
      "metadata": {
        "colab": {
          "base_uri": "https://localhost:8080/",
          "height": 363,
          "resources": {
            "http://localhost:8080/nbextensions/google.colab/files.js": {
              "data": "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",
              "headers": [
                [
                  "content-type",
                  "application/javascript"
                ]
              ],
              "ok": true,
              "status": 200,
              "status_text": ""
            }
          }
        },
        "id": "TKZ20RBg2Mpl",
        "outputId": "261bcac7-782f-4752-95d2-4b8be3cdd855"
      },
      "outputs": [
        {
          "output_type": "display_data",
          "data": {
            "text/plain": [
              "<IPython.core.display.HTML object>"
            ],
            "text/html": [
              "\n",
              "     <input type=\"file\" id=\"files-78021853-2f67-49b5-bdaf-1e2bfdfedd92\" name=\"files[]\" multiple disabled\n",
              "        style=\"border:none\" />\n",
              "     <output id=\"result-78021853-2f67-49b5-bdaf-1e2bfdfedd92\">\n",
              "      Upload widget is only available when the cell has been executed in the\n",
              "      current browser session. Please rerun this cell to enable.\n",
              "      </output>\n",
              "      <script src=\"/nbextensions/google.colab/files.js\"></script> "
            ]
          },
          "metadata": {}
        },
        {
          "output_type": "stream",
          "name": "stdout",
          "text": [
            "Saving hinh-anh-qua-chuoi-tieu.jpg to hinh-anh-qua-chuoi-tieu (1).jpg\n",
            "[[1. 0. 0. 0. 0. 0. 0. 0. 0. 0.]]\n",
            "Giá trị dự đoán:  Banana\n"
          ]
        },
        {
          "output_type": "display_data",
          "data": {
            "text/plain": [
              "<Figure size 432x288 with 1 Axes>"
            ],
            "image/png": "[encoded data removed]"
          },
          "metadata": {
            "needs_background": "light"
          }
        }
      ],
      "source": [
        "from google.colab import files\n",
        "from keras.preprocessing import image\n",
        "%matplotlib inline\n",
        "import matplotlib.pyplot as plt\n",
        "import matplotlib.image as mpimg\n",
        "\n",
        "uploaded=files.upload()\n",
        "\n",
        "for fn in uploaded.keys():\n",
        "  #predicting images\n",
        "  path='/content/'+fn\n",
        "  #In ảnh đọc được\n",
        "  plt.imshow(mpimg.imread(path))\n",
        "\n",
        "  img=image.load_img(path,target_size=(224,224))\n",
        "  x=image.img_to_array(img)\n",
        "  x=np.expand_dims(x,axis=0)\n",
        "  images=np.vstack([x])\n",
        "  y_predict = model.predict(images,batch_size=200000)\n",
        "  print(y_predict)\n",
        "  print('Giá trị dự đoán: ', classes[np.argmax(y_predict)])"
      ]
    },
    {
      "cell_type": "code",
      "execution_count": null,
      "metadata": {
        "id": "_hFQmeMC2oil"
      },
      "outputs": [],
      "source": [
        ""
      ]
    }
  ],
  "metadata": {
    "accelerator": "GPU",
    "colab": {
      "collapsed_sections": [],
      "name": "Trainfruit.ipynb",
      "provenance": [],
      "authorship_tag": "ABX9TyPnVCP7kvX+3RVLClDMXoNm",
      "include_colab_link": true
    },
    "kernelspec": {
      "display_name": "Python 3",
      "name": "python3"
    },
    "language_info": {
      "name": "python"
    }
  },
  "nbformat": 4,
  "nbformat_minor": 0
}